{
 "cells": [
  {
   "cell_type": "markdown",
   "id": "b025b379",
   "metadata": {},
   "source": [
    "## Assignment-1: Operators | Loops\n",
    "## Q1. Write a Python program to get the Fibonacci series between 0 to 50\n",
    "\n",
    "# Note : The Fibonacci Sequence is the series of numbers :\n",
    "\n",
    "# 0, 1, 1, 2, 3, 5, 8, 13, 21, ....\n",
    "\n",
    "# Every next number is found by adding up the two numbers before it.\n",
    "\n",
    "# Expected Output : 1 1 2 3 5 8 13 21 34"
   ]
  },
  {
   "cell_type": "code",
   "execution_count": 2,
   "id": "83112421",
   "metadata": {},
   "outputs": [
    {
     "name": "stdout",
     "output_type": "stream",
     "text": [
      "1 1 2 3 5 8 13 21 34 "
     ]
    }
   ],
   "source": [
    "a = 0\n",
    "b = 1\n",
    "\n",
    "while b<=50: \n",
    "    print(b, end=\" \")\n",
    "    a,b=b,a+b"
   ]
  },
  {
   "cell_type": "markdown",
   "id": "76575965",
   "metadata": {},
   "source": [
    "## Q2. Write a Python program that accepts a word from the user and reverse it.\n",
    "# Sample Test Case\n",
    "\n",
    "\n",
    "\n",
    "# Input : Edyoda\n",
    "\n",
    "# output: adoydE"
   ]
  },
  {
   "cell_type": "code",
   "execution_count": 3,
   "id": "429a50f4",
   "metadata": {},
   "outputs": [
    {
     "name": "stdout",
     "output_type": "stream",
     "text": [
      "Please input a word to reverse:Edyoda\n",
      "adoydE\n"
     ]
    }
   ],
   "source": [
    "variable = input(\"Please input a word to reverse:\")\n",
    "\n",
    "for value in range(len(variable)-1, -1, -1):\n",
    "    print(variable[value], end=\"\")\n",
    "print()"
   ]
  },
  {
   "cell_type": "markdown",
   "id": "57165e19",
   "metadata": {},
   "source": [
    "## Q3. Write a Python program to count the number of even and odd numbers from a series of numbers.\n",
    "\n",
    "\n",
    "\n",
    "# Sample numbers : numbers = (1, 2, 3, 4, 5, 6, 7, 8, 9) \n",
    "\n",
    "# Expected Output :\n",
    "\n",
    "# Number of even numbers : 4\n",
    "\n",
    "# Number of odd numbers : 5"
   ]
  },
  {
   "cell_type": "code",
   "execution_count": 2,
   "id": "ea1c9719",
   "metadata": {},
   "outputs": [
    {
     "name": "stdout",
     "output_type": "stream",
     "text": [
      "Number of even numbers : 4\n",
      "Number of odd numbers : 5\n"
     ]
    }
   ],
   "source": [
    "numbers = (1, 2, 3, 4, 5, 6, 7, 8, 9) # Declaring the tuple\n",
    "count_odd = 0\n",
    "count_even = 0\n",
    "for x in numbers:\n",
    "        if x % 2 == 0:\n",
    "    \t     count_even+=1\n",
    "        else:\n",
    "    \t     count_odd+=1\n",
    "print(\"Number of even numbers :\",count_even)\n",
    "print(\"Number of odd numbers :\",count_odd)"
   ]
  },
  {
   "cell_type": "code",
   "execution_count": null,
   "id": "3fa0e823",
   "metadata": {},
   "outputs": [],
   "source": []
  }
 ],
 "metadata": {
  "kernelspec": {
   "display_name": "Python 3 (ipykernel)",
   "language": "python",
   "name": "python3"
  },
  "language_info": {
   "codemirror_mode": {
    "name": "ipython",
    "version": 3
   },
   "file_extension": ".py",
   "mimetype": "text/x-python",
   "name": "python",
   "nbconvert_exporter": "python",
   "pygments_lexer": "ipython3",
   "version": "3.10.9"
  }
 },
 "nbformat": 4,
 "nbformat_minor": 5
}
